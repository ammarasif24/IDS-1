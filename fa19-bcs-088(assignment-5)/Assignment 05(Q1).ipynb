{
 "cells": [
  {
   "cell_type": "code",
   "execution_count": 2,
   "id": "fdea818c",
   "metadata": {},
   "outputs": [],
   "source": [
    "from collections import Counter\n",
    "from math import log"
   ]
  },
  {
   "cell_type": "code",
   "execution_count": 4,
   "id": "3ef78cb0",
   "metadata": {},
   "outputs": [],
   "source": [
    "sentences = [\n",
    "    \"sunshine state enjoy sunshine\",\n",
    "    \"brown fox jump high, brown fox run\",\n",
    "    \"sunshine state fox run fast\",\n",
    "]"
   ]
  },
  {
   "cell_type": "code",
   "execution_count": 5,
   "id": "7b7a69de",
   "metadata": {},
   "outputs": [],
   "source": [
    "vocab = set()\n",
    "for sentence in sentences:\n",
    "    for word in sentence.split():\n",
    "        vocab.add(word)\n",
    "vocab = list(vocab)\n"
   ]
  },
  {
   "cell_type": "code",
   "execution_count": 6,
   "id": "865963f0",
   "metadata": {},
   "outputs": [],
   "source": [
    "doc_term_matrix = []\n",
    "for sentence in sentences:\n",
    "    # Create a BoW vector for the sentence\n",
    "    bow_vector = [0] * len(vocab)\n",
    "    for word in sentence.split():\n",
    "        if word in vocab:\n",
    "            bow_vector[vocab.index(word)] += 1\n",
    "    doc_term_matrix.append(bow_vector)\n"
   ]
  },
  {
   "cell_type": "code",
   "execution_count": 7,
   "id": "c0fa8895",
   "metadata": {},
   "outputs": [],
   "source": [
    "tf_vectors = []\n",
    "for bow_vector in doc_term_matrix:\n",
    "    # Normalize the BoW vector by dividing each element by the total number of words in the sentence\n",
    "    tf_vector = [word_count / len(bow_vector) for word_count in bow_vector]\n",
    "    tf_vectors.append(tf_vector)\n"
   ]
  },
  {
   "cell_type": "code",
   "execution_count": 8,
   "id": "6e01e9a0",
   "metadata": {},
   "outputs": [],
   "source": [
    "idf_values = []\n",
    "for term in vocab:\n",
    "    doc_count = 0\n",
    "    for bow_vector in doc_term_matrix:\n",
    "        if bow_vector[vocab.index(term)] > 0:\n",
    "            doc_count += 1\n"
   ]
  },
  {
   "cell_type": "code",
   "execution_count": 9,
   "id": "56dcc520",
   "metadata": {},
   "outputs": [],
   "source": [
    "    idf_value = log(len(sentences) / doc_count)\n",
    "    idf_values.append(idf_value)\n"
   ]
  },
  {
   "cell_type": "code",
   "execution_count": 10,
   "id": "13f75674",
   "metadata": {},
   "outputs": [],
   "source": [
    "tfidf_vectors = []\n",
    "for tf_vector in tf_vectors:\n",
    "    # Multiply the TF vector by the IDF values\n",
    "    tfidf_vector = [tf * idf for tf, idf in zip(tf_vector, idf_values)]\n",
    "    tfidf_vectors.append(tfidf_vector)\n"
   ]
  },
  {
   "cell_type": "code",
   "execution_count": 11,
   "id": "03efd625",
   "metadata": {},
   "outputs": [
    {
     "name": "stdout",
     "output_type": "stream",
     "text": [
      "Vocabulary: ['brown', 'sunshine', 'jump', 'high,', 'state', 'fox', 'run', 'fast', 'enjoy']\n",
      "Document-term matrix: [[0, 2, 0, 0, 1, 0, 0, 0, 1], [2, 0, 1, 1, 0, 2, 1, 0, 0], [0, 1, 0, 0, 1, 1, 1, 1, 0]]\n",
      "TF vectors: [[0.0, 0.2222222222222222, 0.0, 0.0, 0.1111111111111111, 0.0, 0.0, 0.0, 0.1111111111111111], [0.2222222222222222, 0.0, 0.1111111111111111, 0.1111111111111111, 0.0, 0.2222222222222222, 0.1111111111111111, 0.0, 0.0], [0.0, 0.1111111111111111, 0.0, 0.0, 0.1111111111111111, 0.1111111111111111, 0.1111111111111111, 0.1111111111111111, 0.0]]\n",
      "IDF values: [1.0986122886681098]\n",
      "TF.IDF vectors: [[0.0], [0.24413606414846883], [0.0]]\n"
     ]
    }
   ],
   "source": [
    "print(\"Vocabulary:\", vocab)\n",
    "print(\"Document-term matrix:\", doc_term_matrix)\n",
    "print(\"TF vectors:\", tf_vectors)\n",
    "print(\"IDF values:\", idf_values)\n",
    "print(\"TF.IDF vectors:\", tfidf_vectors)\n"
   ]
  },
  {
   "cell_type": "code",
   "execution_count": null,
   "id": "c402a3e0",
   "metadata": {},
   "outputs": [],
   "source": []
  }
 ],
 "metadata": {
  "kernelspec": {
   "display_name": "Python 3 (ipykernel)",
   "language": "python",
   "name": "python3"
  },
  "language_info": {
   "codemirror_mode": {
    "name": "ipython",
    "version": 3
   },
   "file_extension": ".py",
   "mimetype": "text/x-python",
   "name": "python",
   "nbconvert_exporter": "python",
   "pygments_lexer": "ipython3",
   "version": "3.9.12"
  }
 },
 "nbformat": 4,
 "nbformat_minor": 5
}
