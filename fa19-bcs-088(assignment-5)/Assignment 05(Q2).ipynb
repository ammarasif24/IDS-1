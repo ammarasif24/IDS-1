{
 "cells": [
  {
   "cell_type": "code",
   "execution_count": null,
   "id": "bec4e817",
   "metadata": {},
   "outputs": [],
   "source": [
    "from sklearn.feature_extraction.text import TfidfVectorizer\n",
    "from sklearn.metrics.pairwise import cosine_similarity\n"
   ]
  },
  {
   "cell_type": "code",
   "execution_count": null,
   "id": "aa2fe8aa",
   "metadata": {},
   "outputs": [],
   "source": [
    "S1 = \"sunshine state enjoy sunshine\"\n",
    "S3 = \"sunshine state fox run fast\""
   ]
  },
  {
   "cell_type": "code",
   "execution_count": null,
   "id": "222438b6",
   "metadata": {},
   "outputs": [],
   "source": [
    "vectorizer = TfidfVectorizer()"
   ]
  },
  {
   "cell_type": "code",
   "execution_count": null,
   "id": "0b91a935",
   "metadata": {},
   "outputs": [],
   "source": [
    "sparse_array_S1 = vectorizer.fit_transform([S1])\n",
    "sparse_array_S3 = vectorizer.transform([S3])"
   ]
  },
  {
   "cell_type": "code",
   "execution_count": null,
   "id": "939ef03f",
   "metadata": {},
   "outputs": [],
   "source": [
    "similarity = cosine_similarity(sparse_array_S1, sparse_array_S3)"
   ]
  },
  {
   "cell_type": "code",
   "execution_count": null,
   "id": "3448acd0",
   "metadata": {},
   "outputs": [],
   "source": [
    "print(similarity)"
   ]
  }
 ],
 "metadata": {
  "kernelspec": {
   "display_name": "Python 3 (ipykernel)",
   "language": "python",
   "name": "python3"
  },
  "language_info": {
   "codemirror_mode": {
    "name": "ipython",
    "version": 3
   },
   "file_extension": ".py",
   "mimetype": "text/x-python",
   "name": "python",
   "nbconvert_exporter": "python",
   "pygments_lexer": "ipython3",
   "version": "3.9.12"
  }
 },
 "nbformat": 4,
 "nbformat_minor": 5
}
